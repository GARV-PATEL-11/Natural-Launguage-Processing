{
 "cells": [
  {
   "cell_type": "code",
   "execution_count": null,
   "id": "bad18dae-930a-4bec-9354-3ad8918fff18",
   "metadata": {},
   "outputs": [],
   "source": []
  }
 ],
 "metadata": {
  "language_info": {
   "name": "python"
  }
 },
 "nbformat": 4,
 "nbformat_minor": 5
}
